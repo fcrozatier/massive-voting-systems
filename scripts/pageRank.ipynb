{
 "cells": [
  {
   "cell_type": "code",
   "execution_count": 1,
   "metadata": {},
   "outputs": [],
   "source": [
    "import numpy as np\n",
    "import networkx as nx\n",
    "from utilities import random_expander_edges, kendall_tau, random_cycle, edges_from_cycle\n",
    "import matplotlib.pyplot as plt\n",
    "from typing import Literal\n",
    "from itertools import  pairwise\n",
    "\n",
    "plt.style.use('_mpl-gallery')"
   ]
  },
  {
   "attachments": {},
   "cell_type": "markdown",
   "metadata": {},
   "source": [
    "## Is PageRank surjective?\n",
    "\n",
    "We want to know whether any vote order is possible with the PageRank. The constraint is that the graph is sparse (small regular expander)"
   ]
  },
  {
   "cell_type": "code",
   "execution_count": 2,
   "metadata": {},
   "outputs": [],
   "source": [
    "# Number of samples\n",
    "N = 40\n",
    "\n",
    "data = [(n := np.random.randint(100,1500), list(np.random.permutation(n))) for i in range(N)]"
   ]
  },
  {
   "cell_type": "code",
   "execution_count": 12,
   "metadata": {},
   "outputs": [],
   "source": [
    "def mimic_ranking(G: nx.DiGraph, edges: list, ranking: list):\n",
    "    \"\"\" Create a graph that mimics a given ranking: for any edge (a,b) in the list, add arrow (a,b) if b is ranked higher than a, and (b,a) otherwise\"\"\"\n",
    "\n",
    "    ordered_edges = []\n",
    "    for u, v in edges:\n",
    "        if ranking.index(u) < ranking.index(v):\n",
    "            ordered_edges.append((u, v))\n",
    "        else:\n",
    "            ordered_edges.append((v, u))\n",
    "    G.add_edges_from(ordered_edges)\n",
    "    return G\n",
    "\n",
    "\n",
    "def apply_page_rank(G):\n",
    "    # Compute PageRank\n",
    "    pr = nx.pagerank(G)\n",
    "    # Sort entries with decreasing score\n",
    "    sorted_entries = sorted(list(pr.items()), key=lambda e: e[1])\n",
    "    # Return the sorted entries numbers\n",
    "    return list(map(lambda x: x[0], sorted_entries))\n",
    "\n",
    "\n",
    "def create_graph(degree, size, ranking, graph_strategy: Literal[\"expander\", \"random_regular\", \"recursive_pr\", \"recursive_pr2\"]):\n",
    "    assert degree % 2 == 0, \"The degree must be even\"\n",
    "\n",
    "    G = nx.DiGraph()\n",
    "    G.add_nodes_from(range(size))\n",
    "\n",
    "    if graph_strategy == \"expander\":\n",
    "        edges = random_expander_edges(degree // 2, size)\n",
    "        G = mimic_ranking(G, edges, ranking)\n",
    "    elif graph_strategy == \"random_regular\":\n",
    "        edges = list(nx.generators.random_graphs.random_regular_graph(degree, size).edges())\n",
    "        G = mimic_ranking(G, edges, ranking)\n",
    "    elif graph_strategy == \"recursive_pr\":\n",
    "        # Start with random cycle\n",
    "        edges = edges_from_cycle(random_cycle(size))\n",
    "        G = mimic_ranking(G, edges, ranking)\n",
    "        # Iteratively compute the page rank, and create new cycles of votes\n",
    "        for _ in range(degree // 2 - 1):\n",
    "            edges = edges_from_cycle(apply_page_rank(G))\n",
    "            G = mimic_ranking(G, edges, ranking)\n",
    "    elif graph_strategy == \"recursive_pr2\":\n",
    "        # Start with random cycle\n",
    "        edges = edges_from_cycle(random_cycle(size))\n",
    "        G = mimic_ranking(G, edges, ranking)\n",
    "        # Iteratively compute the page rank, and create new cycles of votes\n",
    "        for i in range(degree // 2 - 1):\n",
    "            pr = nx.pagerank(G)\n",
    "            sorted_entries = sorted(list(pr.items()), key=lambda e: e[1])\n",
    "            cycles = [[] for _ in range(2**i)]\n",
    "            # Create cycles of same score entries\n",
    "            for idx,v in sorted_entries:\n",
    "                j = round(2**(i-1) * v)\n",
    "                cycles[j].append(idx)\n",
    "            for cycle in cycles:\n",
    "                if len(cycle) > 1:\n",
    "                    edges = edges_from_cycle(cycle)\n",
    "                    G = mimic_ranking(G, edges, ranking)\n",
    "    else:\n",
    "        raise NotImplementedError(\"This strategy does not exist\")\n",
    "\n",
    "    return G"
   ]
  },
  {
   "cell_type": "code",
   "execution_count": 4,
   "metadata": {},
   "outputs": [],
   "source": [
    "def apply_ranking_strategy(degree, graph_strategy: Literal['expander', \"random_regular\", 'recursive_pr'], ranking_strategy: Literal[\"page_rank\"]):\n",
    "  values = [create_graph(degree, n, L, graph_strategy) for n,L  in data ]\n",
    "\n",
    "  if ranking_strategy ==\"page_rank\":\n",
    "    final_ranking = [apply_page_rank(G) for G in values]\n",
    "  else:\n",
    "    raise NotImplementedError(\"Ranking strategy not implemented\")\n",
    "\n",
    "  return [kendall_tau(rank, computed_rank) for rank, computed_rank in zip([L for _,L in data], final_ranking)]"
   ]
  },
  {
   "cell_type": "code",
   "execution_count": 5,
   "metadata": {},
   "outputs": [],
   "source": [
    "DEGREE = 6\n",
    "x = [n for n,_ in data]\n",
    "y1 = apply_ranking_strategy(DEGREE, graph_strategy=\"expander\", ranking_strategy=\"page_rank\")\n",
    "y2 = apply_ranking_strategy(DEGREE, graph_strategy=\"random_regular\", ranking_strategy=\"page_rank\")"
   ]
  },
  {
   "cell_type": "code",
   "execution_count": 6,
   "metadata": {},
   "outputs": [],
   "source": [
    "y3 = apply_ranking_strategy(10, graph_strategy=\"recursive_pr\", ranking_strategy=\"page_rank\")"
   ]
  },
  {
   "cell_type": "code",
   "execution_count": 13,
   "metadata": {},
   "outputs": [],
   "source": [
    "y4 = apply_ranking_strategy(10, graph_strategy=\"recursive_pr2\", ranking_strategy=\"page_rank\")"
   ]
  },
  {
   "cell_type": "code",
   "execution_count": 14,
   "metadata": {},
   "outputs": [
    {
     "data": {
      "image/png": "[encoded data removed]",
      "text/plain": [
       "<Figure size 1000x500 with 1 Axes>"
      ]
     },
     "metadata": {},
     "output_type": "display_data"
    }
   ],
   "source": [
    "fig, ax = plt.subplots(figsize=(10,5))\n",
    "\n",
    "ax.scatter(x, y1, c=\"blue\",)\n",
    "ax.scatter(x, y2, c=\"magenta\")\n",
    "ax.scatter(x, y3, c=\"red\")\n",
    "ax.scatter(x, y4, c=\"green\")\n",
    "\n",
    "ax.set(xlim=(0, max(x)), xticks=np.arange(0,max(x), 400 ),\n",
    "       ylim=(0, 0.3), yticks=np.arange(0, 0.3, 0.1))\n",
    "\n",
    "plt.show()"
   ]
  },
  {
   "cell_type": "code",
   "execution_count": 18,
   "metadata": {},
   "outputs": [
    {
     "data": {
      "text/plain": [
       "0.014072748956469927"
      ]
     },
     "execution_count": 18,
     "metadata": {},
     "output_type": "execute_result"
    }
   ],
   "source": [
    "min(y3)"
   ]
  },
  {
   "cell_type": "code",
   "execution_count": 19,
   "metadata": {},
   "outputs": [
    {
     "data": {
      "text/plain": [
       "0.01942893945899532"
      ]
     },
     "execution_count": 19,
     "metadata": {},
     "output_type": "execute_result"
    }
   ],
   "source": [
    "max(y3)"
   ]
  },
  {
   "cell_type": "code",
   "execution_count": null,
   "metadata": {},
   "outputs": [],
   "source": []
  }
 ],
 "metadata": {
  "kernelspec": {
   "display_name": ".venv",
   "language": "python",
   "name": "python3"
  },
  "language_info": {
   "codemirror_mode": {
    "name": "ipython",
    "version": 3
   },
   "file_extension": ".py",
   "mimetype": "text/x-python",
   "name": "python",
   "nbconvert_exporter": "python",
   "pygments_lexer": "ipython3",
   "version": "3.11.3"
  },
  "orig_nbformat": 4
 },
 "nbformat": 4,
 "nbformat_minor": 2
}
