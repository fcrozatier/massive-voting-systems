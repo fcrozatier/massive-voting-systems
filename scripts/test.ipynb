{
 "cells": [
  {
   "cell_type": "code",
   "execution_count": 11,
   "metadata": {},
   "outputs": [],
   "source": [
    "import numpy as np\n",
    "from random import randint\n",
    "from itertools import pairwise"
   ]
  },
  {
   "cell_type": "code",
   "execution_count": 99,
   "metadata": {},
   "outputs": [],
   "source": [
    "# Use np.random.permutation\n",
    "def shuffle(arr):\n",
    "  return np.random.permutation(len(arr))"
   ]
  },
  {
   "cell_type": "code",
   "execution_count": 69,
   "metadata": {},
   "outputs": [],
   "source": [
    "# Use np.random.shuffle\n",
    "def shuffle(arr):\n",
    "  np.random.shuffle(arr)\n",
    "  return arr"
   ]
  },
  {
   "cell_type": "code",
   "execution_count": 106,
   "metadata": {},
   "outputs": [],
   "source": [
    "# Use Sattolo's algorithm \n",
    "# https://en.wikipedia.org/wiki/Fisher%E2%80%93Yates_shuffle#Sattolo's_algorithm\n",
    "def shuffle(items):\n",
    "  \"\"\"Sattolo's algorithm.\"\"\"\n",
    "\n",
    "  i = len(items)\n",
    "  while i > 1:\n",
    "      i = i - 1\n",
    "      j = randrange(i)  # 0 <= j <= i-1\n",
    "      items[j], items[i] = items[i], items[j]\n",
    "  return items"
   ]
  },
  {
   "cell_type": "code",
   "execution_count": 6,
   "metadata": {},
   "outputs": [],
   "source": [
    "def shuffle(size):\n",
    "    \"\"\"\n",
    "    Returns a random cycle of given size using Durstenfeld algorithm\n",
    "\n",
    "    https://en.wikipedia.org/wiki/Fisher%E2%80%93Yates_shuffle#The_modern_algorithm\n",
    "    \"\"\"\n",
    "\n",
    "    assert size > 1, \"size should be more than 1\"\n",
    "\n",
    "    items = list(range(size))\n",
    "\n",
    "    i = len(items) - 1\n",
    "    while i > 1:\n",
    "        k = randint(1, i)\n",
    "        items[k], items[i] = items[i], items[k]\n",
    "        i -= 1\n",
    "\n",
    "    return items"
   ]
  },
  {
   "cell_type": "code",
   "execution_count": 107,
   "metadata": {},
   "outputs": [
    {
     "data": {
      "text/plain": [
       "{(2, 3, 1): 33350, (3, 1, 2): 33275, (1, 2, 3): 33375}"
      ]
     },
     "execution_count": 107,
     "metadata": {},
     "output_type": "execute_result"
    }
   ],
   "source": [
    "N = 100000\n",
    "count = 0\n",
    "shuffled = tuple([1, 2, 3])\n",
    "permutations = {}\n",
    "\n",
    "while (count < N):\n",
    "  shuffled = tuple(shuffle(list(shuffled)))\n",
    "\n",
    "  if shuffled in permutations: \n",
    "    permutations[shuffled] += 1\n",
    "  else:\n",
    "    permutations[shuffled] = 1\n",
    "  \n",
    "\n",
    "  count += 1\n",
    "\n",
    "permutations"
   ]
  },
  {
   "cell_type": "code",
   "execution_count": 108,
   "metadata": {},
   "outputs": [
    {
     "data": {
      "text/plain": [
       "[0.3335, 0.33275, 0.33375]"
      ]
     },
     "execution_count": 108,
     "metadata": {},
     "output_type": "execute_result"
    }
   ],
   "source": [
    "frequencies = list(map(lambda x: x/N ,permutations.values()))\n",
    "frequencies"
   ]
  },
  {
   "cell_type": "code",
   "execution_count": 109,
   "metadata": {},
   "outputs": [
    {
     "data": {
      "text/plain": [
       "(0.33275, 0.33375)"
      ]
     },
     "execution_count": 109,
     "metadata": {},
     "output_type": "execute_result"
    }
   ],
   "source": [
    "min = np.min(frequencies)\n",
    "max = np.max(frequencies)\n",
    "min,max"
   ]
  },
  {
   "cell_type": "code",
   "execution_count": 110,
   "metadata": {},
   "outputs": [
    {
     "data": {
      "text/plain": [
       "True"
      ]
     },
     "execution_count": 110,
     "metadata": {},
     "output_type": "execute_result"
    }
   ],
   "source": [
    "# Tests\n",
    "(max - min) / N <= 2 / np.sqrt(N)"
   ]
  },
  {
   "cell_type": "code",
   "execution_count": 111,
   "metadata": {},
   "outputs": [
    {
     "data": {
      "text/plain": [
       "True"
      ]
     },
     "execution_count": 111,
     "metadata": {},
     "output_type": "execute_result"
    }
   ],
   "source": [
    "max <= 1/len(permutations) + 1/np.sqrt(N)"
   ]
  },
  {
   "cell_type": "code",
   "execution_count": 112,
   "metadata": {},
   "outputs": [
    {
     "data": {
      "text/plain": [
       "True"
      ]
     },
     "execution_count": 112,
     "metadata": {},
     "output_type": "execute_result"
    }
   ],
   "source": [
    "min >= 1/len(permutations) - 1/np.sqrt(N)"
   ]
  },
  {
   "cell_type": "code",
   "execution_count": 7,
   "metadata": {},
   "outputs": [],
   "source": [
    "def tupleSort(tuple):\n",
    "  if np.min(tuple) == tuple[0]:\n",
    "    return tuple\n",
    "  else:\n",
    "    return (tuple[1], tuple[0])"
   ]
  },
  {
   "cell_type": "code",
   "execution_count": 208,
   "metadata": {},
   "outputs": [
    {
     "data": {
      "text/plain": [
       "(1, 2)"
      ]
     },
     "execution_count": 208,
     "metadata": {},
     "output_type": "execute_result"
    }
   ],
   "source": [
    "tupleSort((2,1))"
   ]
  },
  {
   "cell_type": "code",
   "execution_count": 106,
   "metadata": {},
   "outputs": [],
   "source": [
    "def getCycleEdges(cycle):\n",
    "  edges = [*list(pairwise(cycle)), (cycle[-1], cycle[0])]\n",
    "  return list(map(tupleSort, edges))"
   ]
  },
  {
   "cell_type": "code",
   "execution_count": 107,
   "metadata": {},
   "outputs": [
    {
     "data": {
      "text/plain": [
       "[(1, 2), (2, 3), (1, 3)]"
      ]
     },
     "execution_count": 107,
     "metadata": {},
     "output_type": "execute_result"
    }
   ],
   "source": [
    "getCycleEdges([1,2,3])"
   ]
  },
  {
   "cell_type": "code",
   "execution_count": 8,
   "metadata": {},
   "outputs": [],
   "source": [
    "def expanderFromCycles(k, N):\n",
    "  assert k > 1, \"To build an expander graph you need at least 2 cycles\"\n",
    "  assert N*(N-1) > 2*k, f\"There is not enough room for {k} cycles in a graph of size {N}\"\n",
    "  \n",
    "  permutations = []\n",
    "  edges = set()\n",
    "\n",
    "  for i in range(k):\n",
    "    while len(edges) != (i+1)*N:\n",
    "      permutation=shuffle(N)\n",
    "\n",
    "      permutation_edges = [*list(pairwise(permutation)), (permutation[-1], permutation[0])]\n",
    "      permutation_edges_sorted = list(map(tupleSort, permutation_edges))\n",
    "      edges_copy = set([*edges, *permutation_edges_sorted])\n",
    "\n",
    "      if len(edges_copy) == len(edges) + N:\n",
    "        permutations.append(permutation)\n",
    "        edges = set([*edges_copy])\n",
    "  \n",
    "  return {\"permutations\": permutations, \"edges\":list(edges)}\n",
    "  \n"
   ]
  },
  {
   "cell_type": "code",
   "execution_count": 109,
   "metadata": {},
   "outputs": [],
   "source": [
    "def expanderFromCycles2(k, N):\n",
    "    assert k > 1, \"To build an expander graph you need at least 2 cycles\"\n",
    "    assert N*(N-1) > 2*k, f\"There is not enough room for {k} cycles in a graph of size {N}\"\n",
    "\n",
    "    permutations = []\n",
    "    edges = set()\n",
    "\n",
    "    while len(edges) != k * N:\n",
    "        permutations = [shuffle(N) for _ in range(k)]\n",
    "        edges = set(sum([getCycleEdges(cycle) for cycle in permutations], []))\n",
    "\n",
    "    return {\"permutations\": permutations, \"edges\": list(edges)}"
   ]
  },
  {
   "cell_type": "code",
   "execution_count": 292,
   "metadata": {},
   "outputs": [
    {
     "data": {
      "text/plain": [
       "True"
      ]
     },
     "execution_count": 292,
     "metadata": {},
     "output_type": "execute_result"
    }
   ],
   "source": [
    "k = 2\n",
    "N = 7\n",
    "len(expanderFromCycles(k, N)[\"edges\"]) == k*N"
   ]
  },
  {
   "cell_type": "code",
   "execution_count": 9,
   "metadata": {},
   "outputs": [],
   "source": [
    "import networkx as nx"
   ]
  },
  {
   "cell_type": "code",
   "execution_count": 14,
   "metadata": {},
   "outputs": [],
   "source": [
    "N = 4333\n",
    "k = 7\n",
    "G = nx.Graph()\n",
    "G.add_nodes_from(range(N))\n",
    "G.add_edges_from(expanderFromCycles(k, N)[\"edges\"])"
   ]
  },
  {
   "cell_type": "code",
   "execution_count": 299,
   "metadata": {},
   "outputs": [
    {
     "data": {
      "text/plain": [
       "True"
      ]
     },
     "execution_count": 299,
     "metadata": {},
     "output_type": "execute_result"
    }
   ],
   "source": [
    "nx.is_k_regular(G, 2 * k)"
   ]
  },
  {
   "cell_type": "code",
   "execution_count": 15,
   "metadata": {},
   "outputs": [
    {
     "data": {
      "text/plain": [
       "5"
      ]
     },
     "execution_count": 15,
     "metadata": {},
     "output_type": "execute_result"
    }
   ],
   "source": [
    "nx.diameter(G)"
   ]
  },
  {
   "attachments": {},
   "cell_type": "markdown",
   "metadata": {},
   "source": [
    "### Case N = 4333\n",
    "\n",
    "- k = 1 -> diam = 2166\n",
    "- k = 2 -> diam = 10\n",
    "- k = 3 -> diam = 7\n",
    "- k = 4 -> diam = 6\n",
    "- k = 5 -> diam = 6\n",
    "- k = 6 -> diam = 5\n",
    "- k = 7 -> diam = 5"
   ]
  }
 ],
 "metadata": {
  "kernelspec": {
   "display_name": ".venv",
   "language": "python",
   "name": "python3"
  },
  "language_info": {
   "codemirror_mode": {
    "name": "ipython",
    "version": 3
   },
   "file_extension": ".py",
   "mimetype": "text/x-python",
   "name": "python",
   "nbconvert_exporter": "python",
   "pygments_lexer": "ipython3",
   "version": "3.11.4"
  },
  "orig_nbformat": 4
 },
 "nbformat": 4,
 "nbformat_minor": 2
}
