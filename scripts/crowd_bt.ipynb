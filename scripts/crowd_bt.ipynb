{
 "cells": [
  {
   "cell_type": "code",
   "execution_count": 13,
   "metadata": {},
   "outputs": [],
   "source": [
    "import numpy as np\n",
    "from crowd_bt.models import *\n",
    "from crowd_bt.judge import *\n",
    "from utilities import vote, top_10"
   ]
  },
  {
   "cell_type": "code",
   "execution_count": 4,
   "metadata": {},
   "outputs": [],
   "source": [
    "N = 100\n",
    "budget = 500\n",
    "ranking = list(np.random.permutation(N))\n",
    "\n",
    "annotators = [Annotator() for _ in range(budget//10)]\n",
    "items = [Item(i) for i in range(N)]"
   ]
  },
  {
   "cell_type": "code",
   "execution_count": 5,
   "metadata": {},
   "outputs": [],
   "source": [
    "while budget > 0:\n",
    "    annotator: Annotator = np.random.choice(annotators)\n",
    "    maybe_init_annotator(annotator, items)\n",
    "\n",
    "    annotator.update_next(choose_next(annotator, items))\n",
    "    prev = annotator.prev\n",
    "    next = annotator.next\n",
    "\n",
    "    loser_id, winer_id = vote((prev.id, next.id), ranking, p=0.9)\n",
    "    next_wins = winer_id == next.id\n",
    "    perform_vote(annotator, next_wins)\n",
    "\n",
    "    budget -= 1"
   ]
  },
  {
   "cell_type": "code",
   "execution_count": 14,
   "metadata": {},
   "outputs": [
    {
     "data": {
      "text/plain": [
       "0.9"
      ]
     },
     "execution_count": 14,
     "metadata": {},
     "output_type": "execute_result"
    }
   ],
   "source": [
    "top_10(list(map(lambda i: i.id,sorted(items, key=lambda i: i.mu))), ranking)"
   ]
  }
 ],
 "metadata": {
  "kernelspec": {
   "display_name": ".venv",
   "language": "python",
   "name": "python3"
  },
  "language_info": {
   "codemirror_mode": {
    "name": "ipython",
    "version": 3
   },
   "file_extension": ".py",
   "mimetype": "text/x-python",
   "name": "python",
   "nbconvert_exporter": "python",
   "pygments_lexer": "ipython3",
   "version": "3.11.4"
  },
  "orig_nbformat": 4
 },
 "nbformat": 4,
 "nbformat_minor": 2
}
