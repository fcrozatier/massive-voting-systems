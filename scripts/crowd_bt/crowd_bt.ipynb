{
 "cells": [
  {
   "cell_type": "code",
   "execution_count": 1,
   "metadata": {},
   "outputs": [],
   "source": [
    "import crowd_bt as bt\n",
    "import numpy as np\n",
    "from models import *\n",
    "from judge import *"
   ]
  },
  {
   "cell_type": "code",
   "execution_count": 2,
   "metadata": {},
   "outputs": [],
   "source": [
    "N = 1000\n",
    "budget = 16000\n",
    "ranking = list(np.random.permutation(N))\n",
    "\n",
    "annotators = [Annotator() for _ in range(budget//10)]\n",
    "items = [Item() for _ in range(N)]"
   ]
  },
  {
   "cell_type": "code",
   "execution_count": null,
   "metadata": {},
   "outputs": [],
   "source": [
    "while budget > 0:\n",
    "    annotator: Annotator = np.random.choice(annotators)\n",
    "    maybe_init_annotator(annotator, items)\n",
    "\n",
    "    annotator.update_next(choose_next(annotator,items))\n",
    "    perform_vote(annotator, True)\n",
    "    "
   ]
  }
 ],
 "metadata": {
  "kernelspec": {
   "display_name": ".venv",
   "language": "python",
   "name": "python3"
  },
  "language_info": {
   "codemirror_mode": {
    "name": "ipython",
    "version": 3
   },
   "file_extension": ".py",
   "mimetype": "text/x-python",
   "name": "python",
   "nbconvert_exporter": "python",
   "pygments_lexer": "ipython3",
   "version": "3.11.4"
  },
  "orig_nbformat": 4
 },
 "nbformat": 4,
 "nbformat_minor": 2
}
