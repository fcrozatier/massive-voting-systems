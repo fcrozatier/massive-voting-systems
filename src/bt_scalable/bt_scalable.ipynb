{
  "cells": [
    {
      "cell_type": "code",
      "execution_count": 2,
      "metadata": {},
      "outputs": [],
      "source": [
        "import matplotlib.pyplot as plt\n",
        "\n",
        "plt.style.use('_mpl-gallery')\n",
        "\n",
        "import os, sys\n",
        "parent = os.path.abspath('../..')\n",
        "\n",
        "if not parent in sys.path: sys.path.append(parent)\n",
        "\n",
        "from src.bt_scalable.btdata import BtData\n",
        "from src.utilities import *"
      ]
    },
    {
      "cell_type": "code",
      "execution_count": 2,
      "metadata": {},
      "outputs": [],
      "source": [
        "N = 500\n",
        "ranking = random_ranking(N)"
      ]
    },
    {
      "cell_type": "code",
      "execution_count": 4,
      "metadata": {},
      "outputs": [],
      "source": [
        "M = np.zeros((4, 4))\n",
        "M[0][1] = 2\n",
        "M[0][2] = 0\n",
        "M[0][3] = 1\n",
        "\n",
        "M[1][0] = 3\n",
        "M[1][2] = 5\n",
        "M[1][3] = 0\n",
        "\n",
        "M[2][0] = 0\n",
        "M[2][1] = 3\n",
        "M[2][3] = 1\n",
        "\n",
        "M[3][0] = 4\n",
        "M[3][1] = 0\n",
        "M[3][2] = 3"
      ]
    },
    {
      "cell_type": "code",
      "execution_count": 5,
      "metadata": {},
      "outputs": [
        {
          "data": {
            "text/plain": [
              "array([[0., 2., 0., 1.],\n",
              "       [3., 0., 5., 0.],\n",
              "       [0., 3., 0., 1.],\n",
              "       [4., 0., 3., 0.]])"
            ]
          },
          "execution_count": 5,
          "metadata": {},
          "output_type": "execute_result"
        }
      ],
      "source": [
        "M"
      ]
    },
    {
      "cell_type": "code",
      "execution_count": 6,
      "metadata": {},
      "outputs": [],
      "source": [
        "b = BtData(M)"
      ]
    },
    {
      "cell_type": "code",
      "execution_count": 8,
      "metadata": {},
      "outputs": [
        {
          "data": {
            "text/plain": [
              "[[0, 1, 2, 3]]"
            ]
          },
          "execution_count": 8,
          "metadata": {},
          "output_type": "execute_result"
        }
      ],
      "source": [
        "b.components"
      ]
    },
    {
      "cell_type": "code",
      "execution_count": null,
      "metadata": {},
      "outputs": [],
      "source": []
    }
  ],
  "metadata": {
    "kernelspec": {
      "display_name": ".venv",
      "language": "python",
      "name": "python3"
    },
    "language_info": {
      "codemirror_mode": {
        "name": "ipython",
        "version": 3
      },
      "file_extension": ".py",
      "mimetype": "text/x-python",
      "name": "python",
      "nbconvert_exporter": "python",
      "pygments_lexer": "ipython3",
      "version": "3.11.4"
    },
    "orig_nbformat": 4
  },
  "nbformat": 4,
  "nbformat_minor": 2
}
