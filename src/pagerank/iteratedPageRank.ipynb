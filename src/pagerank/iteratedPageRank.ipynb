{
 "cells": [
  {
   "cell_type": "code",
   "execution_count": 2,
   "metadata": {},
   "outputs": [],
   "source": [
    "import numpy as np\n",
    "import networkx as nx\n",
    "from utilities import random_cycle, edges_from_cycle, top_10_closeness, greatest_common_tail_size, common_tail_size\n",
    "import matplotlib.pyplot as plt\n",
    "from typing import Literal\n",
    "\n",
    "plt.style.use('_mpl-gallery')"
   ]
  },
  {
   "attachments": {},
   "cell_type": "markdown",
   "metadata": {},
   "source": [
    "## Iterated PageRank convergence\n"
   ]
  },
  {
   "cell_type": "code",
   "execution_count": 3,
   "metadata": {},
   "outputs": [],
   "source": [
    "def mimic_ranking(G: nx.DiGraph, edges: list, ranking: list):\n",
    "    \"\"\"Create a graph that mimics a given ranking: for any edge (a,b) in the list, add arrow (a,b) if b is ranked higher than a, and (b,a) otherwise\"\"\"\n",
    "\n",
    "    ordered_edges = []\n",
    "    for u, v in edges:\n",
    "        if ranking.index(u) < ranking.index(v):\n",
    "            ordered_edges.append((u, v))\n",
    "        else:\n",
    "            ordered_edges.append((v, u))\n",
    "    G.add_edges_from(ordered_edges)\n",
    "    return G\n",
    "\n",
    "\n",
    "def apply_page_rank(G):\n",
    "    # Compute PageRank\n",
    "    pr = nx.pagerank(G)\n",
    "    # Sort entries with decreasing score\n",
    "    sorted_entries = sorted(list(pr.items()), key=lambda e: e[1])\n",
    "    # Return the sorted entries numbers\n",
    "    return list(map(lambda x: x[0], sorted_entries))\n",
    "\n",
    "\n",
    "def create_graph(iterations, size, ranking):\n",
    "    G = nx.DiGraph()\n",
    "    G.add_nodes_from(range(size))\n",
    "\n",
    "    # Start with random cycle\n",
    "    edges = edges_from_cycle(random_cycle(size))\n",
    "    G = mimic_ranking(G, edges, ranking)\n",
    "    # Iteratively compute the page rank, and create new cycles of votes\n",
    "    for i in range(iterations - 1):\n",
    "        order = apply_page_rank(G)\n",
    "        if i % 4 == 0:\n",
    "            order = order[: size / 2 ** (-i / 4)]\n",
    "\n",
    "        edges = edges_from_cycle(order)\n",
    "        G = mimic_ranking(G, edges, ranking)\n",
    "\n",
    "    return G"
   ]
  },
  {
   "cell_type": "code",
   "execution_count": 4,
   "metadata": {},
   "outputs": [],
   "source": [
    "def apply_ranking_strategy(degree, graph_strategy: Literal['expander', \"random_regular\", 'recursive_pr'], data: list):\n",
    "  values = [create_graph(degree, n, L, graph_strategy) for n,L  in data ]\n",
    "\n",
    "  final_ranking = [apply_page_rank(G) for G in values]\n",
    "\n",
    "  return [top_10(rank, computed_rank) for rank, computed_rank in zip([L for _,L in data], final_ranking)]\n",
    "  # return [kendall_tau(rank, computed_rank) for rank, computed_rank in zip([L for _,L in data], final_ranking)]"
   ]
  },
  {
   "cell_type": "code",
   "execution_count": 5,
   "metadata": {},
   "outputs": [],
   "source": [
    "# Number of samples\n",
    "N = 40\n",
    "\n",
    "data = [(n := np.random.randint(50,1000), list(np.random.permutation(n))) for i in range(N)]"
   ]
  },
  {
   "cell_type": "code",
   "execution_count": 7,
   "metadata": {},
   "outputs": [
    {
     "ename": "TypeError",
     "evalue": "slice indices must be integers or None or have an __index__ method",
     "output_type": "error",
     "traceback": [
      "\u001b[0;31m---------------------------------------------------------------------------\u001b[0m",
      "\u001b[0;31mTypeError\u001b[0m                                 Traceback (most recent call last)",
      "Cell \u001b[0;32mIn[7], line 4\u001b[0m\n\u001b[1;32m      1\u001b[0m DEGREE \u001b[39m=\u001b[39m \u001b[39m20\u001b[39m\n\u001b[1;32m      2\u001b[0m size \u001b[39m=\u001b[39m \u001b[39m100\u001b[39m\n\u001b[0;32m----> 4\u001b[0m y \u001b[39m=\u001b[39m create_graph(DEGREE, size,  \u001b[39mlist\u001b[39;49m(np\u001b[39m.\u001b[39;49mrandom\u001b[39m.\u001b[39;49mpermutation(size)))[\u001b[39m1\u001b[39m]\n",
      "Cell \u001b[0;32mIn[3], line 34\u001b[0m, in \u001b[0;36mcreate_graph\u001b[0;34m(iterations, size, ranking)\u001b[0m\n\u001b[1;32m     32\u001b[0m order \u001b[39m=\u001b[39m apply_page_rank(G)\n\u001b[1;32m     33\u001b[0m \u001b[39mif\u001b[39;00m i \u001b[39m%\u001b[39m \u001b[39m4\u001b[39m \u001b[39m==\u001b[39m \u001b[39m0\u001b[39m:\n\u001b[0;32m---> 34\u001b[0m     order \u001b[39m=\u001b[39m order[: size \u001b[39m/\u001b[39;49m \u001b[39m2\u001b[39;49m \u001b[39m*\u001b[39;49m\u001b[39m*\u001b[39;49m (\u001b[39m-\u001b[39;49mi \u001b[39m/\u001b[39;49m \u001b[39m4\u001b[39;49m)]\n\u001b[1;32m     36\u001b[0m edges \u001b[39m=\u001b[39m edges_from_cycle(order)\n\u001b[1;32m     37\u001b[0m G \u001b[39m=\u001b[39m mimic_ranking(G, edges, ranking)\n",
      "\u001b[0;31mTypeError\u001b[0m: slice indices must be integers or None or have an __index__ method"
     ]
    }
   ],
   "source": [
    "DEGREE = 20\n",
    "size = 100\n",
    "\n",
    "y = create_graph(DEGREE, size,  list(np.random.permutation(size)))[1]\n"
   ]
  },
  {
   "cell_type": "code",
   "execution_count": 8,
   "metadata": {},
   "outputs": [
    {
     "data": {
      "text/plain": [
       "[4, 4, 6, 7, 7, 8, 9, 9, 9]"
      ]
     },
     "execution_count": 8,
     "metadata": {},
     "output_type": "execute_result"
    }
   ],
   "source": [
    "y"
   ]
  },
  {
   "cell_type": "code",
   "execution_count": 7,
   "metadata": {},
   "outputs": [
    {
     "ename": "ValueError",
     "evalue": "x and y must be the same size",
     "output_type": "error",
     "traceback": [
      "\u001b[0;31m---------------------------------------------------------------------------\u001b[0m",
      "\u001b[0;31mValueError\u001b[0m                                Traceback (most recent call last)",
      "Cell \u001b[0;32mIn[7], line 3\u001b[0m\n\u001b[1;32m      1\u001b[0m fig, ax \u001b[39m=\u001b[39m plt\u001b[39m.\u001b[39msubplots(figsize\u001b[39m=\u001b[39m(\u001b[39m10\u001b[39m,\u001b[39m5\u001b[39m))\n\u001b[0;32m----> 3\u001b[0m ax\u001b[39m.\u001b[39;49mscatter(x, y, c\u001b[39m=\u001b[39;49m\u001b[39m\"\u001b[39;49m\u001b[39mblue\u001b[39;49m\u001b[39m\"\u001b[39;49m)\n\u001b[1;32m      4\u001b[0m \u001b[39m# ax.scatter(x, y4, c=\"green\")\u001b[39;00m\n\u001b[1;32m      6\u001b[0m ax\u001b[39m.\u001b[39mset(xlim\u001b[39m=\u001b[39m(\u001b[39m0\u001b[39m, \u001b[39mmax\u001b[39m(x)), xticks\u001b[39m=\u001b[39mnp\u001b[39m.\u001b[39marange(\u001b[39m0\u001b[39m,\u001b[39mmax\u001b[39m(x), \u001b[39m400\u001b[39m ),\n\u001b[1;32m      7\u001b[0m        ylim\u001b[39m=\u001b[39m(\u001b[39m0\u001b[39m, \u001b[39m0.3\u001b[39m), yticks\u001b[39m=\u001b[39mnp\u001b[39m.\u001b[39marange(\u001b[39m0\u001b[39m, \u001b[39m1.2\u001b[39m, \u001b[39m0.1\u001b[39m))\n",
      "File \u001b[0;32m~/Code/projects/noderank/.venv/lib/python3.11/site-packages/matplotlib/__init__.py:1442\u001b[0m, in \u001b[0;36m_preprocess_data.<locals>.inner\u001b[0;34m(ax, data, *args, **kwargs)\u001b[0m\n\u001b[1;32m   1439\u001b[0m \u001b[39m@functools\u001b[39m\u001b[39m.\u001b[39mwraps(func)\n\u001b[1;32m   1440\u001b[0m \u001b[39mdef\u001b[39;00m \u001b[39minner\u001b[39m(ax, \u001b[39m*\u001b[39margs, data\u001b[39m=\u001b[39m\u001b[39mNone\u001b[39;00m, \u001b[39m*\u001b[39m\u001b[39m*\u001b[39mkwargs):\n\u001b[1;32m   1441\u001b[0m     \u001b[39mif\u001b[39;00m data \u001b[39mis\u001b[39;00m \u001b[39mNone\u001b[39;00m:\n\u001b[0;32m-> 1442\u001b[0m         \u001b[39mreturn\u001b[39;00m func(ax, \u001b[39m*\u001b[39;49m\u001b[39mmap\u001b[39;49m(sanitize_sequence, args), \u001b[39m*\u001b[39;49m\u001b[39m*\u001b[39;49mkwargs)\n\u001b[1;32m   1444\u001b[0m     bound \u001b[39m=\u001b[39m new_sig\u001b[39m.\u001b[39mbind(ax, \u001b[39m*\u001b[39margs, \u001b[39m*\u001b[39m\u001b[39m*\u001b[39mkwargs)\n\u001b[1;32m   1445\u001b[0m     auto_label \u001b[39m=\u001b[39m (bound\u001b[39m.\u001b[39marguments\u001b[39m.\u001b[39mget(label_namer)\n\u001b[1;32m   1446\u001b[0m                   \u001b[39mor\u001b[39;00m bound\u001b[39m.\u001b[39mkwargs\u001b[39m.\u001b[39mget(label_namer))\n",
      "File \u001b[0;32m~/Code/projects/noderank/.venv/lib/python3.11/site-packages/matplotlib/axes/_axes.py:4584\u001b[0m, in \u001b[0;36mAxes.scatter\u001b[0;34m(self, x, y, s, c, marker, cmap, norm, vmin, vmax, alpha, linewidths, edgecolors, plotnonfinite, **kwargs)\u001b[0m\n\u001b[1;32m   4582\u001b[0m y \u001b[39m=\u001b[39m np\u001b[39m.\u001b[39mma\u001b[39m.\u001b[39mravel(y)\n\u001b[1;32m   4583\u001b[0m \u001b[39mif\u001b[39;00m x\u001b[39m.\u001b[39msize \u001b[39m!=\u001b[39m y\u001b[39m.\u001b[39msize:\n\u001b[0;32m-> 4584\u001b[0m     \u001b[39mraise\u001b[39;00m \u001b[39mValueError\u001b[39;00m(\u001b[39m\"\u001b[39m\u001b[39mx and y must be the same size\u001b[39m\u001b[39m\"\u001b[39m)\n\u001b[1;32m   4586\u001b[0m \u001b[39mif\u001b[39;00m s \u001b[39mis\u001b[39;00m \u001b[39mNone\u001b[39;00m:\n\u001b[1;32m   4587\u001b[0m     s \u001b[39m=\u001b[39m (\u001b[39m20\u001b[39m \u001b[39mif\u001b[39;00m mpl\u001b[39m.\u001b[39mrcParams[\u001b[39m'\u001b[39m\u001b[39m_internal.classic_mode\u001b[39m\u001b[39m'\u001b[39m] \u001b[39melse\u001b[39;00m\n\u001b[1;32m   4588\u001b[0m          mpl\u001b[39m.\u001b[39mrcParams[\u001b[39m'\u001b[39m\u001b[39mlines.markersize\u001b[39m\u001b[39m'\u001b[39m] \u001b[39m*\u001b[39m\u001b[39m*\u001b[39m \u001b[39m2.0\u001b[39m)\n",
      "\u001b[0;31mValueError\u001b[0m: x and y must be the same size"
     ]
    },
    {
     "data": {
      "image/png": "[encoded data removed]",
      "text/plain": [
       "<Figure size 1000x500 with 1 Axes>"
      ]
     },
     "metadata": {},
     "output_type": "display_data"
    }
   ],
   "source": [
    "fig, ax = plt.subplots(figsize=(10,5))\n",
    "\n",
    "ax.scatter(x, y, c=\"blue\")\n",
    "# ax.scatter(x, y4, c=\"green\")\n",
    "\n",
    "ax.set(xlim=(0, max(x)), xticks=np.arange(0,max(x), 400 ),\n",
    "       ylim=(0, 0.3), yticks=np.arange(0, 1.2, 0.1))\n",
    "\n",
    "plt.show()"
   ]
  },
  {
   "cell_type": "code",
   "execution_count": 18,
   "metadata": {},
   "outputs": [
    {
     "data": {
      "text/plain": [
       "0.014072748956469927"
      ]
     },
     "execution_count": 18,
     "metadata": {},
     "output_type": "execute_result"
    }
   ],
   "source": [
    "min(y3)"
   ]
  },
  {
   "cell_type": "code",
   "execution_count": 19,
   "metadata": {},
   "outputs": [
    {
     "data": {
      "text/plain": [
       "0.01942893945899532"
      ]
     },
     "execution_count": 19,
     "metadata": {},
     "output_type": "execute_result"
    }
   ],
   "source": [
    "max(y3)"
   ]
  },
  {
   "cell_type": "code",
   "execution_count": null,
   "metadata": {},
   "outputs": [],
   "source": []
  }
 ],
 "metadata": {
  "kernelspec": {
   "display_name": ".venv",
   "language": "python",
   "name": "python3"
  },
  "language_info": {
   "codemirror_mode": {
    "name": "ipython",
    "version": 3
   },
   "file_extension": ".py",
   "mimetype": "text/x-python",
   "name": "python",
   "nbconvert_exporter": "python",
   "pygments_lexer": "ipython3",
   "version": "3.11.4"
  },
  "orig_nbformat": 4
 },
 "nbformat": 4,
 "nbformat_minor": 2
}
