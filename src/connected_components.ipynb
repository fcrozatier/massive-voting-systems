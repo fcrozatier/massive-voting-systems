{
 "cells": [
  {
   "cell_type": "code",
   "execution_count": 1,
   "metadata": {},
   "outputs": [],
   "source": [
    "import os, sys\n",
    "parent = os.path.abspath('..')\n",
    "\n",
    "if not parent in sys.path: sys.path.append(parent)\n",
    "\n",
    "from src.pairings import *\n",
    "from src.bradley_terry.bradley_terry import BradleyTerry\n",
    "import matplotlib.pyplot as plt\n",
    "\n",
    "plt.style.use('_mpl-gallery')\n"
   ]
  },
  {
   "cell_type": "markdown",
   "metadata": {},
   "source": [
    "## How fast does the number of strongly connected components decreases?"
   ]
  },
  {
   "cell_type": "markdown",
   "metadata": {},
   "source": [
    "### Method 1: biggest components first"
   ]
  },
  {
   "cell_type": "code",
   "execution_count": 2,
   "metadata": {},
   "outputs": [],
   "source": [
    "vote1 = BradleyTerry(CCBiggest(1000), 20000, rematch=5, p=0.9)"
   ]
  },
  {
   "cell_type": "code",
   "execution_count": 3,
   "metadata": {},
   "outputs": [
    {
     "data": {
      "image/png": "[encoded data removed]",
      "text/plain": [
       "<Figure size 200x200 with 1 Axes>"
      ]
     },
     "metadata": {},
     "output_type": "display_data"
    }
   ],
   "source": [
    "plt.plot(vote1.comparisons._nb_components_memo)\n",
    "plt.show()"
   ]
  },
  {
   "cell_type": "code",
   "execution_count": 4,
   "metadata": {},
   "outputs": [
    {
     "data": {
      "text/plain": [
       "[1000,\n",
       " 1000,\n",
       " 862,\n",
       " 620,\n",
       " 403,\n",
       " 152,\n",
       " 98,\n",
       " 61,\n",
       " 37,\n",
       " 28,\n",
       " 22,\n",
       " 19,\n",
       " 13,\n",
       " 11,\n",
       " 10,\n",
       " 9,\n",
       " 8,\n",
       " 6,\n",
       " 3,\n",
       " 3]"
      ]
     },
     "execution_count": 4,
     "metadata": {},
     "output_type": "execute_result"
    }
   ],
   "source": [
    "vote1.comparisons._nb_components_memo"
   ]
  },
  {
   "cell_type": "markdown",
   "metadata": {},
   "source": [
    "**Conclusion** \n",
    "\n",
    "It takes about 20k votes with this method to get to a strongly connected graph. <br>\n",
    "The decrease speed is the fastest during the first 7k vote"
   ]
  },
  {
   "cell_type": "markdown",
   "metadata": {},
   "source": [
    "### Method 2: compute components at each iteration (slow)"
   ]
  },
  {
   "cell_type": "code",
   "execution_count": 5,
   "metadata": {},
   "outputs": [
    {
     "ename": "KeyboardInterrupt",
     "evalue": "",
     "output_type": "error",
     "traceback": [
      "\u001b[0;31m---------------------------------------------------------------------------\u001b[0m",
      "\u001b[0;31mKeyboardInterrupt\u001b[0m                         Traceback (most recent call last)",
      "Cell \u001b[0;32mIn[5], line 1\u001b[0m\n\u001b[0;32m----> 1\u001b[0m vote2 \u001b[39m=\u001b[39m BradleyTerry(CCSlow(\u001b[39m1000\u001b[39;49m), \u001b[39m20000\u001b[39;49m, rematch\u001b[39m=\u001b[39;49m\u001b[39m5\u001b[39;49m, p\u001b[39m=\u001b[39;49m\u001b[39m0.9\u001b[39;49m)\n",
      "File \u001b[0;32m~/Code/projects/mvs/src/votes.py:15\u001b[0m, in \u001b[0;36mVote.__init__\u001b[0;34m(self, comparisons, budget, rematch, p)\u001b[0m\n\u001b[1;32m     12\u001b[0m \u001b[39mself\u001b[39m\u001b[39m.\u001b[39mp \u001b[39m=\u001b[39m p\n\u001b[1;32m     13\u001b[0m \u001b[39mself\u001b[39m\u001b[39m.\u001b[39mtrue_ranking \u001b[39m=\u001b[39m random_cycle(comparisons\u001b[39m.\u001b[39mN)\n\u001b[0;32m---> 15\u001b[0m \u001b[39mself\u001b[39;49m\u001b[39m.\u001b[39;49mstart_vote()\n",
      "File \u001b[0;32m~/Code/projects/mvs/src/votes.py:22\u001b[0m, in \u001b[0;36mVote.start_vote\u001b[0;34m(self)\u001b[0m\n\u001b[1;32m     19\u001b[0m n \u001b[39m=\u001b[39m \u001b[39mself\u001b[39m\u001b[39m.\u001b[39mrematch\n\u001b[1;32m     21\u001b[0m \u001b[39mwhile\u001b[39;00m n \u001b[39m>\u001b[39m \u001b[39m0\u001b[39m:\n\u001b[0;32m---> 22\u001b[0m     (i, j) \u001b[39m=\u001b[39m \u001b[39mself\u001b[39;49m\u001b[39m.\u001b[39;49mcomparisons\u001b[39m.\u001b[39;49mnext_comparison()\n\u001b[1;32m     23\u001b[0m     (loser, winner) \u001b[39m=\u001b[39m vote((i, j), \u001b[39mself\u001b[39m\u001b[39m.\u001b[39mtrue_ranking, \u001b[39mself\u001b[39m\u001b[39m.\u001b[39mp)\n\u001b[1;32m     24\u001b[0m     \u001b[39mself\u001b[39m\u001b[39m.\u001b[39mcomparisons\u001b[39m.\u001b[39mrecord_vote(winner, loser)\n",
      "File \u001b[0;32m~/Code/projects/mvs/src/pairings.py:194\u001b[0m, in \u001b[0;36mCCSlow.next_comparison\u001b[0;34m(self)\u001b[0m\n\u001b[1;32m    192\u001b[0m \u001b[39mself\u001b[39m\u001b[39m.\u001b[39m_components \u001b[39m=\u001b[39m [\u001b[39mlist\u001b[39m(c) \u001b[39mfor\u001b[39;00m c \u001b[39min\u001b[39;00m nx\u001b[39m.\u001b[39mstrongly_connected_components(\u001b[39mself\u001b[39m\u001b[39m.\u001b[39mgraph)]\n\u001b[1;32m    193\u001b[0m \u001b[39mself\u001b[39m\u001b[39m.\u001b[39m_components \u001b[39m=\u001b[39m \u001b[39msorted\u001b[39m(\u001b[39mself\u001b[39m\u001b[39m.\u001b[39m_components, key\u001b[39m=\u001b[39m\u001b[39mlambda\u001b[39;00m comp: \u001b[39mlen\u001b[39m(comp), reverse\u001b[39m=\u001b[39m\u001b[39mTrue\u001b[39;00m)\n\u001b[0;32m--> 194\u001b[0m [shuffle(comp) \u001b[39mfor\u001b[39;49;00m comp \u001b[39min\u001b[39;49;00m \u001b[39mself\u001b[39;49m\u001b[39m.\u001b[39;49m_components]\n\u001b[1;32m    196\u001b[0m \u001b[39mif\u001b[39;00m \u001b[39mlen\u001b[39m(\u001b[39mself\u001b[39m\u001b[39m.\u001b[39m_cycle) \u001b[39m==\u001b[39m \u001b[39m0\u001b[39m:\n\u001b[1;32m    197\u001b[0m     \u001b[39mself\u001b[39m\u001b[39m.\u001b[39m_nb_components_memo\u001b[39m.\u001b[39mappend(\u001b[39mlen\u001b[39m(\u001b[39mself\u001b[39m\u001b[39m.\u001b[39m_components))\n",
      "File \u001b[0;32m~/Code/projects/mvs/src/pairings.py:194\u001b[0m, in \u001b[0;36m<listcomp>\u001b[0;34m(.0)\u001b[0m\n\u001b[1;32m    192\u001b[0m \u001b[39mself\u001b[39m\u001b[39m.\u001b[39m_components \u001b[39m=\u001b[39m [\u001b[39mlist\u001b[39m(c) \u001b[39mfor\u001b[39;00m c \u001b[39min\u001b[39;00m nx\u001b[39m.\u001b[39mstrongly_connected_components(\u001b[39mself\u001b[39m\u001b[39m.\u001b[39mgraph)]\n\u001b[1;32m    193\u001b[0m \u001b[39mself\u001b[39m\u001b[39m.\u001b[39m_components \u001b[39m=\u001b[39m \u001b[39msorted\u001b[39m(\u001b[39mself\u001b[39m\u001b[39m.\u001b[39m_components, key\u001b[39m=\u001b[39m\u001b[39mlambda\u001b[39;00m comp: \u001b[39mlen\u001b[39m(comp), reverse\u001b[39m=\u001b[39m\u001b[39mTrue\u001b[39;00m)\n\u001b[0;32m--> 194\u001b[0m [shuffle(comp) \u001b[39mfor\u001b[39;00m comp \u001b[39min\u001b[39;00m \u001b[39mself\u001b[39m\u001b[39m.\u001b[39m_components]\n\u001b[1;32m    196\u001b[0m \u001b[39mif\u001b[39;00m \u001b[39mlen\u001b[39m(\u001b[39mself\u001b[39m\u001b[39m.\u001b[39m_cycle) \u001b[39m==\u001b[39m \u001b[39m0\u001b[39m:\n\u001b[1;32m    197\u001b[0m     \u001b[39mself\u001b[39m\u001b[39m.\u001b[39m_nb_components_memo\u001b[39m.\u001b[39mappend(\u001b[39mlen\u001b[39m(\u001b[39mself\u001b[39m\u001b[39m.\u001b[39m_components))\n",
      "File \u001b[0;32m/usr/local/Cellar/python@3.11/3.11.4_1/Frameworks/Python.framework/Versions/3.11/lib/python3.11/random.py:380\u001b[0m, in \u001b[0;36mRandom.shuffle\u001b[0;34m(self, x)\u001b[0m\n\u001b[1;32m    377\u001b[0m \u001b[39m\u001b[39m\u001b[39m\"\"\"Shuffle list x in place, and return None.\"\"\"\u001b[39;00m\n\u001b[1;32m    379\u001b[0m randbelow \u001b[39m=\u001b[39m \u001b[39mself\u001b[39m\u001b[39m.\u001b[39m_randbelow\n\u001b[0;32m--> 380\u001b[0m \u001b[39mfor\u001b[39;00m i \u001b[39min\u001b[39;00m \u001b[39mreversed\u001b[39m(\u001b[39mrange\u001b[39m(\u001b[39m1\u001b[39m, \u001b[39mlen\u001b[39m(x))):\n\u001b[1;32m    381\u001b[0m     \u001b[39m# pick an element in x[:i+1] with which to exchange x[i]\u001b[39;00m\n\u001b[1;32m    382\u001b[0m     j \u001b[39m=\u001b[39m randbelow(i \u001b[39m+\u001b[39m \u001b[39m1\u001b[39m)\n\u001b[1;32m    383\u001b[0m     x[i], x[j] \u001b[39m=\u001b[39m x[j], x[i]\n",
      "\u001b[0;31mKeyboardInterrupt\u001b[0m: "
     ]
    }
   ],
   "source": [
    "vote2 = BradleyTerry(CCSlow(1000), 20000, rematch=5, p=0.9)"
   ]
  },
  {
   "cell_type": "code",
   "execution_count": 10,
   "metadata": {},
   "outputs": [
    {
     "data": {
      "image/png": "[encoded data removed]",
      "text/plain": [
       "<Figure size 200x200 with 1 Axes>"
      ]
     },
     "metadata": {},
     "output_type": "display_data"
    }
   ],
   "source": [
    "plt.plot(vote2.comparisons._nb_components_memo)\n",
    "plt.show()"
   ]
  },
  {
   "cell_type": "code",
   "execution_count": 10,
   "metadata": {},
   "outputs": [
    {
     "data": {
      "text/plain": [
       "[1000,\n",
       " 1000,\n",
       " 875,\n",
       " 730,\n",
       " 329,\n",
       " 140,\n",
       " 80,\n",
       " 57,\n",
       " 41,\n",
       " 31,\n",
       " 23,\n",
       " 19,\n",
       " 16,\n",
       " 14,\n",
       " 12,\n",
       " 10,\n",
       " 8,\n",
       " 6,\n",
       " 5,\n",
       " 4]"
      ]
     },
     "execution_count": 10,
     "metadata": {},
     "output_type": "execute_result"
    }
   ],
   "source": [
    "vote2.comparisons._nb_components_memo"
   ]
  },
  {
   "cell_type": "markdown",
   "metadata": {},
   "source": [
    "### Method 3: cycle around the components"
   ]
  },
  {
   "cell_type": "code",
   "execution_count": 6,
   "metadata": {},
   "outputs": [],
   "source": [
    "vote3 = BradleyTerry(CCZip(1000), 20000, rematch=5, p=0.9)"
   ]
  },
  {
   "cell_type": "code",
   "execution_count": 7,
   "metadata": {},
   "outputs": [
    {
     "data": {
      "image/png": "[encoded data removed]",
      "text/plain": [
       "<Figure size 200x200 with 1 Axes>"
      ]
     },
     "metadata": {},
     "output_type": "display_data"
    }
   ],
   "source": [
    "plt.plot(vote3.comparisons._nb_components_memo)\n",
    "plt.show()"
   ]
  },
  {
   "cell_type": "code",
   "execution_count": 8,
   "metadata": {},
   "outputs": [
    {
     "data": {
      "text/plain": [
       "[1000,\n",
       " 1000,\n",
       " 851,\n",
       " 614,\n",
       " 394,\n",
       " 263,\n",
       " 173,\n",
       " 139,\n",
       " 57,\n",
       " 54,\n",
       " 50,\n",
       " 20,\n",
       " 9,\n",
       " 4,\n",
       " 4,\n",
       " 4,\n",
       " 2,\n",
       " 2,\n",
       " 2,\n",
       " 2]"
      ]
     },
     "execution_count": 8,
     "metadata": {},
     "output_type": "execute_result"
    }
   ],
   "source": [
    "vote3.comparisons._nb_components_memo"
   ]
  },
  {
   "cell_type": "markdown",
   "metadata": {},
   "source": [
    "### Comparison"
   ]
  },
  {
   "cell_type": "code",
   "execution_count": 40,
   "metadata": {},
   "outputs": [
    {
     "data": {
      "image/png": "[encoded data removed]",
      "text/plain": [
       "<Figure size 200x200 with 1 Axes>"
      ]
     },
     "metadata": {},
     "output_type": "display_data"
    }
   ],
   "source": [
    "plt.plot(vote1.comparisons._nb_components_memo[-10:], 'r')\n",
    "plt.plot(vote2.comparisons._nb_components_memo[-10:], 'g')\n",
    "plt.plot(vote3.comparisons._nb_components_memo[-10:], 'b')\n",
    "plt.show()"
   ]
  },
  {
   "cell_type": "markdown",
   "metadata": {},
   "source": [
    "### Conclusion\n",
    "\n",
    "- The slow method doesn't perform better and is significantly slower\n",
    "- The zip method reaches one component the fastest but the mid-game is better with the first method (biggest components first)\n",
    "\n",
    "The choice of the pairing method depends on the budget. For a short budget the biggest components first is good. Otherwise the zip method is better"
   ]
  },
  {
   "cell_type": "code",
   "execution_count": null,
   "metadata": {},
   "outputs": [],
   "source": []
  }
 ],
 "metadata": {
  "kernelspec": {
   "display_name": ".venv",
   "language": "python",
   "name": "python3"
  },
  "language_info": {
   "codemirror_mode": {
    "name": "ipython",
    "version": 3
   },
   "file_extension": ".py",
   "mimetype": "text/x-python",
   "name": "python",
   "nbconvert_exporter": "python",
   "pygments_lexer": "ipython3",
   "version": "3.11.4"
  },
  "orig_nbformat": 4
 },
 "nbformat": 4,
 "nbformat_minor": 2
}
