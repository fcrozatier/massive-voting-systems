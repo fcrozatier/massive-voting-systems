{
 "cells": [
  {
   "cell_type": "code",
   "execution_count": 22,
   "metadata": {},
   "outputs": [],
   "source": [
    "import numpy as np\n",
    "from crowd_bt.models import *\n",
    "from crowd_bt.judge import *\n",
    "from utilities import vote, top_10\n",
    "import matplotlib.pyplot as plt\n",
    "\n",
    "plt.style.use('_mpl-gallery')"
   ]
  },
  {
   "cell_type": "code",
   "execution_count": 23,
   "metadata": {},
   "outputs": [],
   "source": [
    "N = 100\n",
    "budget = 5000\n",
    "ranking = list(np.random.permutation(N))"
   ]
  },
  {
   "cell_type": "code",
   "execution_count": 25,
   "metadata": {},
   "outputs": [],
   "source": [
    "def crowd_bt(ranking, budget):\n",
    "    annotators = [Annotator() for _ in range(3 * N)]\n",
    "    items = [Item(i) for i in range(N)]\n",
    "\n",
    "    while budget > 0:\n",
    "        annotator: Annotator = np.random.choice(annotators)\n",
    "        maybe_init_annotator(annotator, items)\n",
    "\n",
    "        annotator.update_next(choose_next(annotator, items))\n",
    "        prev = annotator.prev\n",
    "        next = annotator.next\n",
    "\n",
    "        _, winner_id = vote((prev.id, next.id), ranking, p=1)\n",
    "        next_wins = winner_id == next.id\n",
    "        perform_vote(annotator, next_wins)\n",
    "\n",
    "        budget -= 1\n",
    "\n",
    "    return list(map(lambda i: i.id, sorted(items, key=lambda i: i.mu)))"
   ]
  },
  {
   "cell_type": "code",
   "execution_count": 27,
   "metadata": {},
   "outputs": [
    {
     "data": {
      "image/png": "[encoded data removed]",
      "text/plain": [
       "<Figure size 200x200 with 1 Axes>"
      ]
     },
     "metadata": {},
     "output_type": "display_data"
    }
   ],
   "source": [
    "R = range(500, 5000, 500)\n",
    "L = [top_10(ranking, crowd_bt(ranking, b)) for b in R]\n",
    "\n",
    "plt.plot(list(R), L)\n",
    "plt.show()"
   ]
  }
 ],
 "metadata": {
  "kernelspec": {
   "display_name": ".venv",
   "language": "python",
   "name": "python3"
  },
  "language_info": {
   "codemirror_mode": {
    "name": "ipython",
    "version": 3
   },
   "file_extension": ".py",
   "mimetype": "text/x-python",
   "name": "python",
   "nbconvert_exporter": "python",
   "pygments_lexer": "ipython3",
   "version": "3.11.4"
  },
  "orig_nbformat": 4
 },
 "nbformat": 4,
 "nbformat_minor": 2
}
