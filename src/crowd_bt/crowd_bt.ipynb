{
 "cells": [
  {
   "cell_type": "code",
   "execution_count": 1,
   "metadata": {},
   "outputs": [],
   "source": [
    "import os, sys\n",
    "parent = os.path.abspath('../..')\n",
    "\n",
    "if not parent in sys.path: sys.path.append(parent)\n",
    "\n",
    "import numpy as np\n",
    "import matplotlib.pyplot as plt\n",
    "\n",
    "from src.crowd_bt.models import *\n",
    "from src.crowd_bt.judge import *\n",
    "from src.utilities import vote, top_10\n",
    "\n",
    "plt.style.use('_mpl-gallery')"
   ]
  },
  {
   "cell_type": "code",
   "execution_count": 2,
   "metadata": {},
   "outputs": [],
   "source": [
    "N = 500\n",
    "budget = range(1000, 10000, 1000)\n",
    "ranking = list(np.random.permutation(N))"
   ]
  },
  {
   "cell_type": "code",
   "execution_count": 5,
   "metadata": {},
   "outputs": [],
   "source": [
    "def crowd_bt(ranking, budget):\n",
    "    annotators = [Annotator() for _ in range(3 * N)]\n",
    "    items = [Item(i) for i in range(N)]\n",
    "\n",
    "    while budget > 0:\n",
    "        annotator: Annotator = np.random.choice(annotators)\n",
    "        maybe_init_annotator(annotator, items)\n",
    "\n",
    "        annotator.update_next(choose_next(annotator, items))\n",
    "        prev = annotator.prev\n",
    "        next = annotator.next\n",
    "\n",
    "        _, winner_id = vote((prev.id, next.id), ranking, p=1)\n",
    "        next_wins = winner_id == next.id\n",
    "        perform_vote(annotator, next_wins)\n",
    "\n",
    "        budget -= 1\n",
    "\n",
    "    return list(map(lambda i: i.id, sorted(items, key=lambda i: i.mu)))"
   ]
  },
  {
   "cell_type": "code",
   "execution_count": 7,
   "metadata": {},
   "outputs": [
    {
     "data": {
      "image/png": "[encoded data removed]",
      "text/plain": [
       "<Figure size 200x200 with 1 Axes>"
      ]
     },
     "metadata": {},
     "output_type": "display_data"
    }
   ],
   "source": [
    "budget = range(1000, 10000, 2000)\n",
    "L = [top_10(ranking, crowd_bt(ranking, b)) for b in budget]\n",
    "\n",
    "plt.plot(list(budget), L)\n",
    "plt.show()"
   ]
  },
  {
   "cell_type": "code",
   "execution_count": 8,
   "metadata": {},
   "outputs": [
    {
     "data": {
      "text/plain": [
       "[0.56, 0.28, 0.21999999999999997, 0.28, 0.12]"
      ]
     },
     "execution_count": 8,
     "metadata": {},
     "output_type": "execute_result"
    }
   ],
   "source": [
    "L"
   ]
  }
 ],
 "metadata": {
  "kernelspec": {
   "display_name": ".venv",
   "language": "python",
   "name": "python3"
  },
  "language_info": {
   "codemirror_mode": {
    "name": "ipython",
    "version": 3
   },
   "file_extension": ".py",
   "mimetype": "text/x-python",
   "name": "python",
   "nbconvert_exporter": "python",
   "pygments_lexer": "ipython3",
   "version": "3.11.4"
  },
  "orig_nbformat": 4
 },
 "nbformat": 4,
 "nbformat_minor": 2
}
