{
 "cells": [
  {
   "cell_type": "code",
   "execution_count": 1,
   "metadata": {},
   "outputs": [],
   "source": [
    "import matplotlib.pyplot as plt\n",
    "\n",
    "plt.style.use('_mpl-gallery')\n",
    "\n",
    "import os, sys\n",
    "parent = os.path.abspath('../..')\n",
    "\n",
    "if not parent in sys.path: sys.path.append(parent)\n",
    "\n",
    "from src.bradley_terry.bradley_terry import *\n",
    "from src.utilities import *\n",
    "from src.comparisons import *"
   ]
  },
  {
   "cell_type": "code",
   "execution_count": 2,
   "metadata": {},
   "outputs": [],
   "source": [
    "N = 500"
   ]
  },
  {
   "cell_type": "code",
   "execution_count": 3,
   "metadata": {},
   "outputs": [
    {
     "name": "stderr",
     "output_type": "stream",
     "text": [
      "/Users/fcrz/Code/projects/mvs/src/bradley_terry/bradley_terry.py:25: RuntimeWarning: invalid value encountered in scalar divide\n",
      "  return W_i / D\n"
     ]
    },
    {
     "data": {
      "image/png": "[encoded data removed]",
      "text/plain": [
       "<Figure size 200x200 with 1 Axes>"
      ]
     },
     "metadata": {},
     "output_type": "display_data"
    }
   ],
   "source": [
    "budget = range(1000, 10000, 1000)\n",
    "votes = [BradleyTerry(RandomComparisons(N), b, rematch=3, p=0.9).start_vote() for b in budget]\n",
    "\n",
    "L = [vote.score() for vote in votes]\n",
    "\n",
    "plt.plot(list(budget), L)\n",
    "plt.show()"
   ]
  },
  {
   "cell_type": "code",
   "execution_count": null,
   "metadata": {},
   "outputs": [],
   "source": []
  }
 ],
 "metadata": {
  "kernelspec": {
   "display_name": ".venv",
   "language": "python",
   "name": "python3"
  },
  "language_info": {
   "codemirror_mode": {
    "name": "ipython",
    "version": 3
   },
   "file_extension": ".py",
   "mimetype": "text/x-python",
   "name": "python",
   "nbconvert_exporter": "python",
   "pygments_lexer": "ipython3",
   "version": "3.11.4"
  },
  "orig_nbformat": 4
 },
 "nbformat": 4,
 "nbformat_minor": 2
}
